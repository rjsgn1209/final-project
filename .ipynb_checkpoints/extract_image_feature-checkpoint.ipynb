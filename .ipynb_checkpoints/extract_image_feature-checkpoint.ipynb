{
 "cells": [
  {
   "cell_type": "markdown",
   "id": "325590f9",
   "metadata": {},
   "source": [
    "# 이지미 Feture값들 추출 하는 코드"
   ]
  },
  {
   "cell_type": "code",
   "execution_count": 1,
   "id": "f77e8098",
   "metadata": {},
   "outputs": [],
   "source": [
    "import tensorflow as tf\n",
    "import numpy as np\n",
    "import matplotlib.pyplot as plt\n",
    "import pandas as pd\n",
    "from scipy import io"
   ]
  },
  {
   "cell_type": "code",
   "execution_count": 2,
   "id": "b57a1f70",
   "metadata": {},
   "outputs": [],
   "source": [
    "import torch\n",
    "import clip\n",
    "from PIL import Image\n",
    "import os, pickle\n",
    "from torchvision import datasets\n",
    "from torchvision.transforms import transforms\n",
    "import urllib.request\n",
    "import time\n",
    "\n",
    "from urllib.error import HTTPError, URLError"
   ]
  },
  {
   "cell_type": "code",
   "execution_count": 3,
   "id": "b2af7ae3",
   "metadata": {},
   "outputs": [
    {
     "data": {
      "text/plain": [
       "<All keys matched successfully>"
      ]
     },
     "execution_count": 3,
     "metadata": {},
     "output_type": "execute_result"
    }
   ],
   "source": [
    "device = \"cuda\" if torch.cuda.is_available() else \"cpu\"\n",
    "model, preprocess = clip.load('ViT-B/32', device)\n",
    "checkpoint = torch.load(\"fine_tuning_models/model_style_epoch16.pt\")\n",
    "model.load_state_dict(checkpoint['model_state_dict'])\n",
    "#cifar100 = CIFAR100(root=os.path.expanduser(\"~/.cache\"), download=True, train=False)"
   ]
  },
  {
   "cell_type": "code",
   "execution_count": 4,
   "id": "72bcf49d",
   "metadata": {},
   "outputs": [],
   "source": [
    "titles = os.listdir('img_files/코디2/')"
   ]
  },
  {
   "cell_type": "code",
   "execution_count": 5,
   "id": "8b5595ce",
   "metadata": {},
   "outputs": [],
   "source": [
    "with open('data_files/data.pickle', 'rb') as fr:\n",
    "    data = pickle.load(fr)"
   ]
  },
  {
   "cell_type": "code",
   "execution_count": 6,
   "id": "6614ecdc",
   "metadata": {},
   "outputs": [],
   "source": [
    "num = data['num']\n",
    "step = data['step']\n",
    "input_text = data['input_text']"
   ]
  },
  {
   "cell_type": "code",
   "execution_count": null,
   "id": "f33a93f3",
   "metadata": {},
   "outputs": [],
   "source": []
  },
  {
   "cell_type": "code",
   "execution_count": 7,
   "id": "b2e0ebf8",
   "metadata": {},
   "outputs": [
    {
     "name": "stdout",
     "output_type": "stream",
     "text": [
      "Range : 22600 ~ 22800\n",
      "Input Text : style_epoch16\n"
     ]
    }
   ],
   "source": [
    "title_li = []\n",
    "img_li = []\n",
    "img_cat = []\n",
    "print('Range :', num, '~', num + step)\n",
    "print('Input Text :', input_text)\n",
    "\n",
    "if num + step > len(titles): max_num = len(titles)\n",
    "else: max_num = num+step\n",
    "\n",
    "for title in titles[num:max_num]:\n",
    "    title_li.append(title)\n",
    "    img = Image.open(f\"img_files/코디2/{title}\")\n",
    "    img = img.resize((256, 256), Image.HAMMING)\n",
    "    img_li.append(np.array(img))\n",
    "    img = preprocess(img).unsqueeze(0).to(device)\n",
    "    img_cat.append(img)\n",
    "img_t = torch.cat(img_cat)\n",
    "image_features = model.encode_image(img_t)\n",
    "image_features /= image_features.norm(dim=-1, keepdim=True)"
   ]
  },
  {
   "cell_type": "code",
   "execution_count": 8,
   "id": "567d889a",
   "metadata": {},
   "outputs": [],
   "source": [
    "if os.path.exists(f'data_files/image_features/{input_text}') == False: os.mkdir(f'data_files/image_features/{input_text}') "
   ]
  },
  {
   "cell_type": "code",
   "execution_count": 9,
   "id": "b8c22c7a",
   "metadata": {},
   "outputs": [
    {
     "name": "stdout",
     "output_type": "stream",
     "text": [
      "22516\n"
     ]
    }
   ],
   "source": [
    "if os.path.exists(f'data_files/image_features/{input_text}/index.pickle'):\n",
    "    with open(f'data_files/image_features/{input_text}/index.pickle', 'rb') as fr:\n",
    "        index = pickle.load(fr)\n",
    "    for title in title_li:\n",
    "        index.append(title)\n",
    "    with open(f'data_files/image_features/{input_text}/index.pickle', 'wb') as fw:\n",
    "        pickle.dump(index, fw)\n",
    "    print(len(index))\n",
    "else:\n",
    "    with open(f'data_files/image_features/{input_text}/index.pickle', 'wb') as fw:\n",
    "        pickle.dump(title_li, fw)"
   ]
  },
  {
   "cell_type": "code",
   "execution_count": 10,
   "id": "fe5e1be3",
   "metadata": {},
   "outputs": [
    {
     "name": "stdout",
     "output_type": "stream",
     "text": [
      "torch.Size([22516, 512])\n"
     ]
    }
   ],
   "source": [
    "if os.path.exists(f'data_files/image_features/{input_text}/feature_values.pt'):\n",
    "    feature_values = torch.load(f'data_files/image_features/{input_text}/feature_values.pt')\n",
    "    feature_values = torch.cat([feature_values, image_features])\n",
    "    torch.save(feature_values, f'data_files/image_features/{input_text}/feature_values.pt')\n",
    "    print(feature_values.shape)\n",
    "else:\n",
    "    torch.save(image_features, f'data_files/image_features/{input_text}/feature_values.pt')"
   ]
  },
  {
   "cell_type": "code",
   "execution_count": 11,
   "id": "37b5b259",
   "metadata": {},
   "outputs": [
    {
     "name": "stdout",
     "output_type": "stream",
     "text": [
      "22600 ~ 22800\n"
     ]
    }
   ],
   "source": [
    "print(num, '~', num + step)"
   ]
  }
 ],
 "metadata": {
  "kernelspec": {
   "display_name": "Python 3 (ipykernel)",
   "language": "python",
   "name": "python3"
  },
  "language_info": {
   "codemirror_mode": {
    "name": "ipython",
    "version": 3
   },
   "file_extension": ".py",
   "mimetype": "text/x-python",
   "name": "python",
   "nbconvert_exporter": "python",
   "pygments_lexer": "ipython3",
   "version": "3.9.12"
  }
 },
 "nbformat": 4,
 "nbformat_minor": 5
}
